{
 "cells": [
  {
   "cell_type": "markdown",
   "id": "bb76d8ca",
   "metadata": {},
   "source": [
    "Replace hyphens in files with underscore"
   ]
  },
  {
   "cell_type": "code",
   "execution_count": 1,
   "id": "ef47fddd",
   "metadata": {},
   "outputs": [],
   "source": [
    "import os\n",
    "\n",
    "def replace_file_name(old_name, new_name):\n",
    "    if os.path.isfile(new_name):\n",
    "        print(\"The file already exists\")\n",
    "    else:\n",
    "    # Rename the file\n",
    "        os.rename(old_name, new_name)"
   ]
  },
  {
   "cell_type": "code",
   "execution_count": 13,
   "id": "55086dd3",
   "metadata": {},
   "outputs": [
    {
     "data": {
      "text/plain": [
       "['./day-1',\n",
       " './day-2',\n",
       " './day-3',\n",
       " './day-4',\n",
       " './day-5',\n",
       " './day-6',\n",
       " './day-7',\n",
       " './day-8']"
      ]
     },
     "execution_count": 13,
     "metadata": {},
     "output_type": "execute_result"
    }
   ],
   "source": [
    "root_dir = \"./\"\n",
    "\n",
    "folders_involved = [x for x in os.listdir(root_dir) if \"day\" in x]\n",
    "folders_paths = [root_dir+x for x in folders_involved]\n",
    "folders_paths"
   ]
  },
  {
   "cell_type": "code",
   "execution_count": 16,
   "id": "19e31d7b",
   "metadata": {},
   "outputs": [
    {
     "name": "stdout",
     "output_type": "stream",
     "text": [
      "./day-1/band-name-generator.py\n",
      "./day-1/basic-syntax.py\n",
      "./day-2/bmi-calculator.py\n",
      "./day-2/life-in-week.py\n",
      "./day-2/tip-calculator.py\n",
      "./day-3/bmi-indicator.py\n",
      "./day-3/leap-year.py\n",
      "./day-3/love-calculator.py\n",
      "./day-3/odd-or-even.py\n",
      "./day-3/pizza-price.py\n",
      "./day-3/roller-coaster.py\n",
      "./day-3/treasure-island.py\n",
      "./day-4/heads-or-tails.py\n",
      "./day-4/randomisation.py\n",
      "./day-4/rock-paper-scissors.py\n",
      "./day-4/treasure-map.py\n",
      "./day-4/who-pays-bill.py\n",
      "./day-5/add-even.py\n",
      "./day-5/average-heights.py\n",
      "./day-5/fizzbuzz.py\n",
      "./day-5/highest-height.py\n",
      "./day-5/password-generator.py\n",
      "./day-7/hangman.py\n",
      "./day-7/hangman_figures.py\n",
      "./day-7/hangman_wordlist.py\n",
      "./day-7/__pycache__\n",
      "./day-8/caesar-cipher.py\n",
      "./day-8/caesar_logo.py\n",
      "./day-8/paint-can-calculator.py\n",
      "./day-8/prime-nummber-calculator.py\n",
      "./day-8/__pycache__\n"
     ]
    }
   ],
   "source": [
    "for f_path in folders_paths:\n",
    "    for file in os.listdir(f_path):\n",
    "        file_path = f_path + \"/\" + file\n",
    "        print(file_path)"
   ]
  },
  {
   "cell_type": "code",
   "execution_count": 24,
   "id": "a5e2809d",
   "metadata": {
    "scrolled": true
   },
   "outputs": [
    {
     "name": "stdout",
     "output_type": "stream",
     "text": [
      "./day-1/band-name-generator.py to ./day_1/band_name_generator.py...\n"
     ]
    },
    {
     "ename": "FileNotFoundError",
     "evalue": "[WinError 3] The system cannot find the path specified: './day-1/band-name-generator.py' -> './day_1/band_name_generator.py'",
     "output_type": "error",
     "traceback": [
      "\u001b[1;31m---------------------------------------------------------------------------\u001b[0m",
      "\u001b[1;31mFileNotFoundError\u001b[0m                         Traceback (most recent call last)",
      "Input \u001b[1;32mIn [24]\u001b[0m, in \u001b[0;36m<cell line: 1>\u001b[1;34m()\u001b[0m\n\u001b[0;32m      7\u001b[0m \u001b[38;5;66;03m# use \\ instead of / in windows\u001b[39;00m\n\u001b[0;32m      8\u001b[0m \u001b[38;5;66;03m#new_file_path = new_file_path.replace(\"/\", \"\\\")\u001b[39;00m\n\u001b[0;32m      9\u001b[0m \u001b[38;5;28mprint\u001b[39m(\u001b[38;5;124mf\u001b[39m\u001b[38;5;124m\"\u001b[39m\u001b[38;5;132;01m{\u001b[39;00mold_file_path\u001b[38;5;132;01m}\u001b[39;00m\u001b[38;5;124m to \u001b[39m\u001b[38;5;132;01m{\u001b[39;00mnew_file_path\u001b[38;5;132;01m}\u001b[39;00m\u001b[38;5;124m...\u001b[39m\u001b[38;5;124m\"\u001b[39m)\n\u001b[1;32m---> 10\u001b[0m \u001b[43mreplace_file_name\u001b[49m\u001b[43m(\u001b[49m\u001b[43mold_file_path\u001b[49m\u001b[43m,\u001b[49m\u001b[43m \u001b[49m\u001b[43mnew_file_path\u001b[49m\u001b[43m)\u001b[49m\n\u001b[0;32m     11\u001b[0m \u001b[38;5;28mprint\u001b[39m()\n",
      "Input \u001b[1;32mIn [1]\u001b[0m, in \u001b[0;36mreplace_file_name\u001b[1;34m(old_name, new_name)\u001b[0m\n\u001b[0;32m      5\u001b[0m     \u001b[38;5;28mprint\u001b[39m(\u001b[38;5;124m\"\u001b[39m\u001b[38;5;124mThe file already exists\u001b[39m\u001b[38;5;124m\"\u001b[39m)\n\u001b[0;32m      6\u001b[0m \u001b[38;5;28;01melse\u001b[39;00m:\n\u001b[0;32m      7\u001b[0m \u001b[38;5;66;03m# Rename the file\u001b[39;00m\n\u001b[1;32m----> 8\u001b[0m     \u001b[43mos\u001b[49m\u001b[38;5;241;43m.\u001b[39;49m\u001b[43mrename\u001b[49m\u001b[43m(\u001b[49m\u001b[43mold_name\u001b[49m\u001b[43m,\u001b[49m\u001b[43m \u001b[49m\u001b[43mnew_name\u001b[49m\u001b[43m)\u001b[49m\n",
      "\u001b[1;31mFileNotFoundError\u001b[0m: [WinError 3] The system cannot find the path specified: './day-1/band-name-generator.py' -> './day_1/band_name_generator.py'"
     ]
    }
   ],
   "source": [
    "for f_path in folders_paths:\n",
    "    for file in os.listdir(f_path):\n",
    "        old_file_path = f_path + \"/\" + file \n",
    "        # exclude __pycache__\n",
    "        if \"_\" not in old_file_path:\n",
    "            new_file_path = old_file_path.replace(\"-\", \"_\")\n",
    "            # use \\ instead of / in windows\n",
    "            #new_file_path = new_file_path.replace(\"/\", \"\\\")\n",
    "            print(f\"{old_file_path} to {new_file_path}...\")\n",
    "            replace_file_name(old_file_path, new_file_path)\n",
    "            print()"
   ]
  },
  {
   "cell_type": "code",
   "execution_count": 26,
   "id": "d0fb6c6b",
   "metadata": {},
   "outputs": [
    {
     "ename": "NameError",
     "evalue": "name 'shutil' is not defined",
     "output_type": "error",
     "traceback": [
      "\u001b[1;31m---------------------------------------------------------------------------\u001b[0m",
      "\u001b[1;31mNameError\u001b[0m                                 Traceback (most recent call last)",
      "Input \u001b[1;32mIn [26]\u001b[0m, in \u001b[0;36m<cell line: 4>\u001b[1;34m()\u001b[0m\n\u001b[0;32m      1\u001b[0m source \u001b[38;5;241m=\u001b[39m \u001b[38;5;124m'\u001b[39m\u001b[38;5;124m./day-1/band-name-generator.py\u001b[39m\u001b[38;5;124m'\u001b[39m\n\u001b[0;32m      2\u001b[0m destination \u001b[38;5;241m=\u001b[39m \u001b[38;5;124m'\u001b[39m\u001b[38;5;124m./day_1/band_name_generator.py\u001b[39m\u001b[38;5;124m'\u001b[39m\n\u001b[1;32m----> 4\u001b[0m \u001b[43mshutil\u001b[49m\u001b[38;5;241m.\u001b[39mcopytree(source, destination)\n\u001b[0;32m      5\u001b[0m \u001b[38;5;28mprint\u001b[39m(\u001b[38;5;124m\"\u001b[39m\u001b[38;5;124mSource File Permission : \u001b[39m\u001b[38;5;132;01m%s\u001b[39;00m\u001b[38;5;124m\"\u001b[39m \u001b[38;5;241m%\u001b[39m os\u001b[38;5;241m.\u001b[39maccess(\u001b[38;5;124m\"\u001b[39m\u001b[38;5;124m./day-1/band-name-generator.py\u001b[39m\u001b[38;5;124m\"\u001b[39m ,os\u001b[38;5;241m.\u001b[39mW_OK))\n\u001b[0;32m      6\u001b[0m \u001b[38;5;28mprint\u001b[39m(\u001b[38;5;124m\"\u001b[39m\u001b[38;5;124mDestination File Permission : \u001b[39m\u001b[38;5;132;01m%s\u001b[39;00m\u001b[38;5;124m\"\u001b[39m \u001b[38;5;241m%\u001b[39m os\u001b[38;5;241m.\u001b[39maccess(\u001b[38;5;124m\"\u001b[39m\u001b[38;5;124m./day_1/band_name_generator.py\u001b[39m\u001b[38;5;124m\"\u001b[39m, os\u001b[38;5;241m.\u001b[39mW_OK))\n",
      "\u001b[1;31mNameError\u001b[0m: name 'shutil' is not defined"
     ]
    }
   ],
   "source": [
    "source = './day-1/band-name-generator.py'\n",
    "destination = './day_1/band_name_generator.py'\n",
    "\n",
    "shutil.copytree(source, destination)\n",
    "print(\"Source File Permission : %s\" % os.access(\"./day-1/band-name-generator.py\" ,os.W_OK))\n",
    "print(\"Destination File Permission : %s\" % os.access(\"./day_1/band_name_generator.py\", os.W_OK))"
   ]
  }
 ],
 "metadata": {
  "kernelspec": {
   "display_name": "Python 3 (ipykernel)",
   "language": "python",
   "name": "python3"
  },
  "language_info": {
   "codemirror_mode": {
    "name": "ipython",
    "version": 3
   },
   "file_extension": ".py",
   "mimetype": "text/x-python",
   "name": "python",
   "nbconvert_exporter": "python",
   "pygments_lexer": "ipython3",
   "version": "3.10.0"
  }
 },
 "nbformat": 4,
 "nbformat_minor": 5
}
